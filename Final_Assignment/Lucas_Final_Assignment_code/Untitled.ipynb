{
 "cells": [
  {
   "cell_type": "markdown",
   "metadata": {},
   "source": [
    "# Steps for optimization algorithm\n",
    "Our problem owner defined the following four key interests:\n",
    "1. Minimisation of flood risk in general, with a focus on farmers \n",
    "2. If some kind of Room for the River (RfR) measures are put in place, they want to be compensated for the loss of revenue because of this policy\n",
    "3. Our dike ring is more modern (thus higher revenues), thus our risk for flooding should be lower than dike ring 4\n",
    "4. Livelihood is more important than empirical evidence.\n",
    "\n",
    "I think we should use the MORDM algo (see assignment 8 of this week) where they define the four different steps needed to make this work. For this we need to use the `dike_model_optimization.py` and choose an `problem_formulation_id` between 0 and 5. These problem formulations are defined in line 94 of the file `problem_formulation.py` but i'm not sure what they cover and thus what we should choose for our problem. By the looks of things we want to go for `problem_formulation_id == 3` since that will take all the other locations into consideration and it will minimize Expected Annual Damages (EAD) and other costs and causalties. \n",
    "\n",
    "In summary: We want to follow the four steps in assignment 8 to use the MORDM algorithm by using problem formulation 3. \n",
    "\n",
    "Problem is that I don't know which parts of the code we need to adapt, or that we should make a new .py file and manually define the model.uncertainties, model.levers and model.outcomes like they did in the beginning of the course for the lake_problem (or how they did it in assignment 7). \n",
    "\n",
    "I think once it's clear where we need to adapt/write code then it'll be a lot of copy paste work from the older assignments where we already used these optimization/explore algo's. \n",
    "\n",
    "P.S. if you haven't already, check the .pptx in Kwakkels' folder for some insight in the files and structure of the problem. \n",
    "\n",
    "Let me know what you think! "
   ]
  },
  {
   "cell_type": "code",
   "execution_count": null,
   "metadata": {},
   "outputs": [],
   "source": []
  }
 ],
 "metadata": {
  "kernelspec": {
   "display_name": "Python 3",
   "language": "python",
   "name": "python3"
  },
  "language_info": {
   "codemirror_mode": {
    "name": "ipython",
    "version": 3
   },
   "file_extension": ".py",
   "mimetype": "text/x-python",
   "name": "python",
   "nbconvert_exporter": "python",
   "pygments_lexer": "ipython3",
   "version": "3.8.3"
  }
 },
 "nbformat": 4,
 "nbformat_minor": 4
}
