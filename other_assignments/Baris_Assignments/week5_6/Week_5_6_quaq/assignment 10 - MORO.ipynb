{
 "cells": [
  {
   "cell_type": "markdown",
   "metadata": {},
   "source": [
    "# Multi-objective Robust Optimization (MORO)\n",
    "\n",
    "\n",
    "This exercise demostrates the application of MORO on the lake model. In contrast to the exercises in previous weeks, we will be using a slightly more sophisticated version of the problem. For details see the MORDM assignment for this week.\n",
    "\n",
    "## Setup MORO\n",
    "\n",
    "Many objective robust optimization aims at finding decisions that are robust with respect to the various deeply uncertain factors. For this, MORO evalues each candidate decision over a set of scenarios. For each outcome of interest, the robusntess over this set is calculated. A MOEA is used to maximize the robustness. \n",
    "\n",
    "For this assignment, we will be using a domain criterion as our robustness metric. The table below lists the rules that you should use for each outcome of interest.\n",
    "\n",
    "|Outcome of interest| threhsold  |\n",
    "|-------------------|------------|\n",
    "| Maximum pollution | $\\leq$ 0.75|\n",
    "| Inertia           | $\\geq$ 0.6 |\n",
    "| Reliability       | $\\geq$ 0.99|   \n",
    "| Utility           | $\\geq$ 0.75|\n",
    "\n",
    "**1) Implement a function for each outcome that takes a numpy array with results for the outcome of interest, and returns the robustness score**"
   ]
  },
  {
   "cell_type": "code",
   "execution_count": 1,
   "metadata": {},
   "outputs": [],
   "source": [
    "import functools\n",
    "\n",
    "def robustness(direction, threshold, data):\n",
    "    if direction == SMALLER:\n",
    "        return np.sum(data<=threshold)/data.shape[0]\n",
    "    else:\n",
    "        return np.sum(data>=threshold)/data.shape[0]\n",
    "\n",
    "def maxp(data):\n",
    "    return np.sum(data<=0.75)/data.shape[0]\n",
    "    \n",
    "SMALLER = 'SMALLER'\n",
    "LARGER = 'LARGER'\n",
    "\n",
    "maxp = functools.partial(robustness, SMALLER, 0.75)\n",
    "inertia = functools.partial(robustness, LARGER, 0.6)\n",
    "reliability = functools.partial(robustness, LARGER, 0.99)\n",
    "utility = functools.partial(robustness, LARGER, 0.75)"
   ]
  },
  {
   "cell_type": "markdown",
   "metadata": {},
   "source": [
    "**2) Generate 4 random release policies, and evaluate them over 500 scenarios. Sample the scenarios using Monte Carlo sampling. Next evaulate your robustness function for 1, 2, 3, ... 500 scenarios for each outcome and visualize this. What can you tell about the convergernce of the robusntess metric as a function of the number of scenarios?**"
   ]
  },
  {
   "cell_type": "markdown",
   "metadata": {},
   "source": [
    "## Importing the Model"
   ]
  },
  {
   "cell_type": "code",
   "execution_count": null,
   "metadata": {},
   "outputs": [],
   "source": [
    "from Week_5_6_quaq.dps_lake_model import lake_model as lake_problem\n",
    "\n",
    "from ema_workbench import (Model, RealParameter, ScalarOutcome, Constant, SequentialEvaluator, MultiprocessingEvaluator,\n",
    "                           ema_logging, Constraint, Policy, save_results)\n",
    "from ema_workbench.analysis import (parcoords, prim)\n",
    "import matplotlib.pyplot as plt\n",
    "\n",
    "ema_logging.log_to_stderr(ema_logging.INFO)\n",
    "\n",
    "lake_model = Model('lakemodel', function=lake_problem)\n",
    "lake_model.time_horizon = 100\n",
    "\n",
    "lake_model.uncertainties = [RealParameter(\"mean\", 0.01, 0.05),\n",
    "                            RealParameter(\"stdev\", 0.001, 0.005),\n",
    "                            RealParameter(\"b\", 0.1, 0.45),\n",
    "                            RealParameter(\"q\", 2, 4.5),\n",
    "                            RealParameter(\"delta\", 0.93, 0.99)]\n",
    "\n",
    "lake_model.levers = [RealParameter(\"c1\", -2, 2),\n",
    "                     RealParameter(\"c2\", -2, 2),\n",
    "                     RealParameter(\"r1\", 0, 2),\n",
    "                     RealParameter(\"r2\", 0, 2),\n",
    "                     RealParameter(\"w1\", 0, 1)]\n",
    "\n",
    "lake_model.outcomes = [ScalarOutcome(\"max_P\", kind=ScalarOutcome.MINIMIZE),\n",
    "                       ScalarOutcome(\"utility\", kind=ScalarOutcome.MAXIMIZE),\n",
    "                       ScalarOutcome(\"inertia\", kind=ScalarOutcome.MAXIMIZE),\n",
    "                       ScalarOutcome(\"reliability\", kind=ScalarOutcome.MAXIMIZE)]\n",
    "\n",
    "lake_model.constants = [Constant(\"alpha\", 0.4),\n",
    "                        Constant(\"nsamples\", 100),\n",
    "                        Constant(\"myears\", 100)]\n",
    "n_scenario = 500"
   ]
  },
  {
   "cell_type": "code",
   "execution_count": 4,
   "metadata": {
    "collapsed": true
   },
   "outputs": [],
   "source": [
    "import random\n",
    "from ema_workbench import Policy\n",
    "\n",
    "policies = []\n",
    "for i in range(4):\n",
    "    policy_dict = {\"c1\": random.randint(-2, 2),\n",
    "                   \"c2\": random.randint(-2, 2),\n",
    "                   \"r1\": random.randint(0, 2),\n",
    "                   \"r2\": random.randint(0, 2),\n",
    "                   \"w1\": random.randint(0, 1)}\n",
    "    policies.append(Policy(f\"pol_{i}\", **policy_dict))"
   ]
  },
  {
   "cell_type": "code",
   "execution_count": null,
   "metadata": {},
   "outputs": [],
   "source": [
    "monte_sample = samplers.MonteCarloSampler()\n",
    "samples = monte_sample.sample(distribution='integer', params=(0, 500), size=100)"
   ]
  },
  {
   "cell_type": "code",
   "execution_count": null,
   "metadata": {},
   "outputs": [],
   "source": [
    "for scenarios in range(1, 500):\n",
    "    with MultiprocessingEvaluator(lake_model) as evaluator:\n",
    "        results, outcomes = evaluator.perform_experiments(scenarios, policies=policies)\n",
    "\n",
    "    max_p_outcomes = outcomes['max_P']\n",
    "    utility_outcomes = outcomes['utility']\n",
    "    inertia_outcomes = outcomes['inertia']\n",
    "    reliability_outcomes = outcomes['reliability']\n",
    "    max_p_robustness.append(robustness(SMALLER, 0.75, max_p_outcomes))\n",
    "    utility_robustness.append(robustness(LARGER, 0.75, utility_outcomes))\n",
    "    inertia_robustness.append(robustness(LARGER, 0.6, inertia_outcomes))\n",
    "    reliability_robustness.append(robustness(LARGER, 0.99, reliability_outcomes))"
   ]
  },
  {
   "cell_type": "code",
   "execution_count": null,
   "metadata": {},
   "outputs": [],
   "source": [
    "plt.plot(max_p_robustness)\n",
    "plt.plot(inertia_robustness)\n",
    "plt.plot(utility_robustness)\n",
    "plt.plot(reliability_robustness)\n",
    "plt.show()"
   ]
  },
  {
   "cell_type": "markdown",
   "metadata": {},
   "source": [
    "After having run the model, there were several observation one could make. First of all, the reliability robustness scores tends to converge towards around 20% and the utility around 60%. Moreover, the inertia is (almost) always at 1 and the max pollution follows the reliability robustness score"
   ]
  },
  {
   "cell_type": "markdown",
   "metadata": {},
   "source": [
    "## Searching for candidate solutions\n",
    "Set up the robust optimization problem using the robustness functions you have specified. Assume that you will need 50 scenarios for estimating the robustness. Use $\\epsilon$-progress and hypervolume to track convergence. Solve the optimization problem. As $\\epsilon$ values, you can assume 0.05 for each of the four robustness metrics.\n",
    "\n",
    "*note: this optimization problem is computationally very expensive. Develop and test your code using a sequential evaluator, a low number of function evaluations (e.g., 200), and a low number of scenarios (e.g., 5). Once everything seems to be working replace the sequential evaluator with an multiprocessing or ipyparallel evaluator, and increase the number of nfe and scenarios*.\n"
   ]
  },
  {
   "cell_type": "code",
   "execution_count": null,
   "metadata": {},
   "outputs": [],
   "source": [
    "with MultiprocessingEvaluator(lake_model) as evaluator:\n",
    "    archive, convergence = evaluator.robust_optimize(robustness_function, \n",
    "                                                     scenarios=n_scenario, \n",
    "                                                     policies=policies, \n",
    "                                                     nfe=10,\n",
    "                                                     convergence=convergence_metrics, \n",
    "                                                     epsilons=[0.05, 0.05, 0.05, 0.05])"
   ]
  },
  {
   "cell_type": "code",
   "execution_count": null,
   "metadata": {},
   "outputs": [],
   "source": [
    "output = archive.iloc[:, 100 : :]\n",
    "limits = parcoords.get_limits(output)\n",
    "limits.loc[0, :] = 0\n",
    "limits.loc[1, :] = 1\n",
    "\n",
    "axes = parcoords.ParallelAxes(limits)\n",
    "axes.plot(output)\n",
    "plt.show()"
   ]
  },
  {
   "cell_type": "markdown",
   "metadata": {},
   "source": [
    "**Plot your $\\epsilon$-progress to evaluate convergergence, and visualize the trade-offs using parallel coordinate plots**"
   ]
  },
  {
   "cell_type": "code",
   "execution_count": 33,
   "metadata": {
    "collapsed": true
   },
   "outputs": [],
   "source": [
    "fig, axes = plt.subplots(ncols=2, sharex=True)\n",
    "axes[0].plot(convergence.nfe, convergence.epsilon_progress)\n",
    "axes[1].plot(convergence.nfe, convergence.hypervolume)\n",
    "\n",
    "axes[0].set_xlabel('# nfe')\n",
    "axes[1].set_xlabel('# nfe')\n",
    "\n",
    "sns.despine()\n",
    "\n",
    "plt.show()"
   ]
  },
  {
   "cell_type": "markdown",
   "metadata": {},
   "source": [
    "Unfortunately, it was not possible for our group to run this model on time. However, we expect that convergence will happen only after a significant number of nfes (likely more than 100,000)."
   ]
  },
  {
   "cell_type": "markdown",
   "metadata": {},
   "source": [
    "**What does this plot tell us about the tradeoffs and conflicting objectives?**"
   ]
  },
  {
   "cell_type": "markdown",
   "metadata": {},
   "source": [
    "## Re-evaluate candidate solutions under uncertainty\n",
    "\n",
    "We have used only 50 scenarios for the optimization. Take the results and re-evaluate them over a larger set (assume 1000 scenarios). How different are your results? What does this imply for the assumption of 50 scenarios during robust optimization.\n",
    "\n",
    "*hint: use the to_dict method on a dataframe, next generate Policy objects in a list expression by iterating over the dicts returned by the to_dict method*"
   ]
  },
  {
   "cell_type": "markdown",
   "metadata": {
    "collapsed": true
   },
   "source": [
    "As we do not have the previous results, it is not possible to conduct this part of the code. However, the code itself will be similar to some of the previous assignments, where different policies are again created from outcomes."
   ]
  },
  {
   "cell_type": "markdown",
   "metadata": {},
   "source": [
    "## Comparison\n",
    "If you have time, import your solutions found for MORDM and re-evaluate them over the same set of scnearios as used for re-evaluating the MORO results. Compare the robustness of MORDM and MORO, what do you observe?"
   ]
  },
  {
   "cell_type": "code",
   "execution_count": null,
   "metadata": {},
   "outputs": [],
   "source": []
  }
 ],
 "metadata": {
  "anaconda-cloud": {},
  "kernelspec": {
   "display_name": "Python 3",
   "language": "python",
   "name": "python3"
  },
  "language_info": {
   "codemirror_mode": {
    "name": "ipython",
    "version": 3
   },
   "file_extension": ".py",
   "mimetype": "text/x-python",
   "name": "python",
   "nbconvert_exporter": "python",
   "pygments_lexer": "ipython3",
   "version": "3.8.3"
  },
  "latex_envs": {
   "LaTeX_envs_menu_present": true,
   "autocomplete": true,
   "bibliofile": "biblio.bib",
   "cite_by": "apalike",
   "current_citInitial": 1,
   "eqLabelWithNumbers": true,
   "eqNumInitial": 1,
   "hotkeys": {
    "equation": "Ctrl-E",
    "itemize": "Ctrl-I"
   },
   "labels_anchors": false,
   "latex_user_defs": false,
   "report_style_numbering": false,
   "user_envs_cfg": false
  }
 },
 "nbformat": 4,
 "nbformat_minor": 2
}
